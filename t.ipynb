{
 "cells": [
  {
   "cell_type": "code",
   "execution_count": null,
   "metadata": {},
   "outputs": [],
   "source": [
    "# !python main.py --mode test_only"
   ]
  },
  {
   "cell_type": "code",
   "execution_count": null,
   "metadata": {},
   "outputs": [],
   "source": [
    "\n",
    "# !python main.py --mode test_only --LR_path test_data/cars --generator_path ./model/pre_trained_model_1600.pt"
   ]
  },
  {
   "cell_type": "code",
   "execution_count": 1,
   "metadata": {},
   "outputs": [
    {
     "name": "stdout",
     "output_type": "stream",
     "text": [
      "2\n",
      "0.09679453819990158\n",
      "=========\n",
      "4\n",
      "0.10680530965328217\n",
      "=========\n"
     ]
    }
   ],
   "source": [
    "!python main.py --LR_path custom_dataset/train_LR --GT_path custom_dataset/train_HR"
   ]
  }
 ],
 "metadata": {
  "kernelspec": {
   "display_name": "srganenv_gpu",
   "language": "python",
   "name": "python3"
  },
  "language_info": {
   "codemirror_mode": {
    "name": "ipython",
    "version": 3
   },
   "file_extension": ".py",
   "mimetype": "text/x-python",
   "name": "python",
   "nbconvert_exporter": "python",
   "pygments_lexer": "ipython3",
   "version": "3.6.5"
  },
  "orig_nbformat": 4
 },
 "nbformat": 4,
 "nbformat_minor": 2
}
